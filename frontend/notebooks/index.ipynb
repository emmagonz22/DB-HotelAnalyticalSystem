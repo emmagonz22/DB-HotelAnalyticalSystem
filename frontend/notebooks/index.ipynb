{
 "cells": [
  {
   "cell_type": "code",
   "execution_count": null,
   "metadata": {},
   "outputs": [],
   "source": [
    "from vois.vuetify import mainPage, page\n",
    "from ipywidgets import widgets, Layout\n",
    "from random import randrange"
   ]
  },
  {
   "cell_type": "code",
   "execution_count": null,
   "metadata": {},
   "outputs": [],
   "source": [
    "m = mainPage.mainPage(title='Hotel Analytical System',\n",
    "        subtitle='CIIC4060 - Database',\n",
    "        credits=\"Los Chuletas\",\n",
    "        titlebox_widthpercent=50,\n",
    "        titlebox_opacity=0.6,\n",
    "        titlebox_border=0,\n",
    "        vois_show=False, \n",
    "        vois_opacity=0.1,\n",
    "        button_widthpercent=23, \n",
    "        button_heightpercent=14,\n",
    "        button_elevation=16, \n",
    "        button_opacity=0.6,\n",
    "        background_image='assets/hotel_lobby.jpg',\n",
    "        background_filter='blur(2px) brightness(1.2) contrast(0.7) sepia(0.05) saturate(1.2)',\n",
    "        creditbox_opacity=0,\n",
    "        text_color='#222222',\n",
    "        applogo_url='assets/chuleta.png',\n",
    "        applogo_widthpercent=8.0,\n",
    "        creditslogo_url=\"assets/uprm_logo_credits.png\",\n",
    "        creditbox_widthpercent=15.0,\n",
    "        creditbox_heightpercent=20.0,\n",
    "        creditbox_toppercent=80.0,\n",
    "        \n",
    "        )\n",
    "\n",
    "def onclick1():\n",
    "    print(\"Clicked Function 1\")\n",
    "\n",
    "\n",
    "m.addButton('Function 1', tooltip='Locals',\n",
    "                onclick=onclick1)\n",
    "\n",
    "m.open()"
   ]
  },
  {
   "cell_type": "code",
   "execution_count": null,
   "metadata": {},
   "outputs": [],
   "source": [
    "\n"
   ]
  }
 ],
 "metadata": {
  "language_info": {
   "name": "python"
  }
 },
 "nbformat": 4,
 "nbformat_minor": 2
}
