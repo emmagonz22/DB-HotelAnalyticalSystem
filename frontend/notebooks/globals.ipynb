{
 "cells": [
  {
   "cell_type": "code",
   "execution_count": 2,
   "metadata": {},
   "outputs": [],
   "source": [
    "import api.globals_api as globals_api\n",
    "#import pandas as pd\n",
    "from vois.vuetify import app, menu\n",
    "#import ipyvuetify as v\n",
    "#from ipywidgets import widgets\n",
    "from time import sleep\n"
   ]
  },
  {
   "cell_type": "code",
   "execution_count": null,
   "metadata": {},
   "outputs": [],
   "source": [
    "%%html\n",
    "<style>\n",
    "    .container {\n",
    "        margin-top: 20px;\n",
    "        height: 80px;\n",
    "    }\n",
    "    /* Navbar container */\n",
    "    .navbar {\n",
    "        display: flex;\n",
    "        overflow: hidden;\n",
    "        background-color: #fff; /* Dark background color */\n",
    "        font-family: Arial, sans-serif; /* Change the font-family */\n",
    "        height: auto !important;\n",
    "        border-radius: 30px;\n",
    "        margin-left: 60px;\n",
    "        margin-right: 60px;\n",
    "        box-shadow: rgba(100, 100, 111, 0.6) 0px 9px 19px 0px;\n",
    "    }\n",
    "    \n",
    "    /* Navbar links */\n",
    "    .navbar a {\n",
    "        width: 100%;\n",
    "        font-size: 16px; /* Font size */\n",
    "        color: black; /* Text color */\n",
    "        text-align: center; /* Centering text */\n",
    "        padding: 14px 20px; /* Some padding */\n",
    "        text-decoration: none; /* No underline */\n",
    "    }\n",
    "\n",
    "    /* Links - change color on hover */\n",
    "    .navbar a:hover {\n",
    "        background-color: #0084FF;\n",
    "        color: #fff; /* Black text color on hover */\n",
    "    }\n",
    "\n",
    "    \n",
    "</style>\n",
    "<div class=\"container\">\n",
    "    <div class=\"navbar\">\n",
    "        \n",
    "        <a href=\"/voila/render/home.ipynb\">Home</a>\n",
    "        <a href=\"/voila/render/globals.ipynb\">Global</a>\n",
    "        <a href=\"/voila/render/locals.ipynb\">Locals</a>\n",
    "        <a href=\"/voila/render/about.ipynb\">Sign out</a>  \n",
    "    </div>\n",
    "</div>"
   ]
  },
  {
   "cell_type": "code",
   "execution_count": 5,
   "metadata": {},
   "outputs": [
    {
     "data": {
      "text/plain": [
       "<Response [405]>"
      ]
     },
     "execution_count": 5,
     "metadata": {},
     "output_type": "execute_result"
    }
   ],
   "source": [
    "#dummy_usr = '{ \"user_id\" : 1 }'\n",
    "#globals_api.getpercentageByPaymentMethod(dummy_usr)"
   ]
  },
  {
   "cell_type": "code",
   "execution_count": null,
   "metadata": {},
   "outputs": [],
   "source": [
    "%%html \n",
    "<h1 id='local'>Locals</h1>\n",
    "<hr>"
   ]
  },
  {
   "cell_type": "code",
   "execution_count": null,
   "metadata": {},
   "outputs": [],
   "source": [
    "for i in range(100):\n",
    "    print(i)"
   ]
  },
  {
   "cell_type": "code",
   "execution_count": null,
   "metadata": {},
   "outputs": [],
   "source": [
    "%%html \n",
    "<h1 id='globals'>Globals</h1>"
   ]
  },
  {
   "cell_type": "code",
   "execution_count": null,
   "metadata": {},
   "outputs": [],
   "source": []
  },
  {
   "cell_type": "code",
   "execution_count": null,
   "metadata": {},
   "outputs": [],
   "source": [
    "%%html \n",
    "<h1 >Loquesea</h1>"
   ]
  },
  {
   "cell_type": "code",
   "execution_count": 2,
   "metadata": {},
   "outputs": [
    {
     "data": {
      "application/vnd.jupyter.widget-view+json": {
       "model_id": "19c5c4c393834450942af3fff4a6e9be",
       "version_major": 2,
       "version_minor": 0
      },
      "text/plain": [
       "HBox(children=(VBox(children=(Label(value='0'), Label(value='1'))), VBox(children=(Label(value='2'), Label(val…"
      ]
     },
     "execution_count": 2,
     "metadata": {},
     "output_type": "execute_result"
    }
   ],
   "source": [
    "from ipywidgets import widgets\n",
    "items = [widgets.Label(str(i)) for i in range(4)]\n",
    "left_box = widgets.VBox([items[0], items[1]])\n",
    "right_box = widgets.VBox([items[2], items[3]])\n",
    "widgets.HBox([left_box, right_box])"
   ]
  }
 ],
 "metadata": {
  "kernelspec": {
   "display_name": "Python 3",
   "language": "python",
   "name": "python3"
  },
  "language_info": {
   "codemirror_mode": {
    "name": "ipython",
    "version": 3
   },
   "file_extension": ".py",
   "mimetype": "text/x-python",
   "name": "python",
   "nbconvert_exporter": "python",
   "pygments_lexer": "ipython3",
   "version": "3.11.1"
  }
 },
 "nbformat": 4,
 "nbformat_minor": 2
}
