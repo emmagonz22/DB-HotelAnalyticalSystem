{
 "cells": [
  {
   "cell_type": "code",
   "execution_count": null,
   "metadata": {},
   "outputs": [],
   "source": [
    "\n",
    "import pandas as pd\n",
    "import ipywidgets as widgets\n",
    "from IPython.display import display, HTML\n"
   ]
  },
  {
   "cell_type": "code",
   "execution_count": null,
   "metadata": {},
   "outputs": [],
   "source": [
    "%%html\n",
    "<style>\n",
    "    /* Navbar container */\n",
    "    .navbar {\n",
    "        display: flex;\n",
    "        justify-content: space-between;\n",
    "        overflow: hidden;\n",
    "        background-color: #fff; /* Dark background color */\n",
    "        font-family: Arial, sans-serif; /* Change the font-family */\n",
    "        border-bottom: solid;\n",
    "        border-right: solid;\n",
    "        border-radius: 30px;\n",
    "        margin-left: 30px;\n",
    "        margin-right: 30px;\n",
    "\n",
    "    }\n",
    "    \n",
    "    /* Navbar links */\n",
    "    .navbar a {\n",
    "        float: left;\n",
    "        font-size: 16px; /* Font size */\n",
    "        color: black; /* Text color */\n",
    "        text-align: center; /* Centering text */\n",
    "        padding: 14px 20px; /* Some padding */\n",
    "        text-decoration: none; /* No underline */\n",
    "     \n",
    "    }\n",
    "\n",
    "    /* Links - change color on hover */\n",
    "    .navbar a:hover {\n",
    "        color: #409ce2; /* Black text color on hover */\n",
    "    }\n",
    "\n",
    "    \n",
    "</style>\n",
    "\n",
    "<div class=\"navbar\">\n",
    "    <a href=\"/voila/render/home.ipynb\">Home</a>\n",
    "    <a href=\"#/voila/render/globals.ipynb\">Global</a>\n",
    "    <a href=\"#/voila/render/locals.ipynb\">Locals</a>\n",
    "    <a href=\"#/voila/render/about.ipynb\">About</a>\n",
    "    <a href=\"#/voila/render/about.ipynb\">Sign out</a>  \n",
    "</div>\n"
   ]
  }
 ],
 "metadata": {
  "language_info": {
   "name": "python"
  }
 },
 "nbformat": 4,
 "nbformat_minor": 2
}
