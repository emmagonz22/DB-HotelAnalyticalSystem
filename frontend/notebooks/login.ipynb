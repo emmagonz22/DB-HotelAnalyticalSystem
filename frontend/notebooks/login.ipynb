{
 "cells": [
  {
   "cell_type": "code",
   "execution_count": 13,
   "metadata": {},
   "outputs": [],
   "source": [
    "from IPython.display import display, HTML\n",
    "import ipywidgets as widgets\n",
    "import ipyvuetify as v"
   ]
  },
  {
   "cell_type": "code",
   "execution_count": 21,
   "metadata": {},
   "outputs": [
    {
     "data": {
      "application/vnd.jupyter.widget-view+json": {
       "model_id": "acc95fa53b8049719d6ebb3f0f40fe0f",
       "version_major": 2,
       "version_minor": 0
      },
      "text/plain": [
       "Text(value='', description='username', placeholder='username')"
      ]
     },
     "metadata": {},
     "output_type": "display_data"
    },
    {
     "data": {
      "application/vnd.jupyter.widget-view+json": {
       "model_id": "f8e914673e4144f9b20e536a5694fe71",
       "version_major": 2,
       "version_minor": 0
      },
      "text/plain": [
       "Text(value='', description='password', placeholder='password')"
      ]
     },
     "metadata": {},
     "output_type": "display_data"
    }
   ],
   "source": [
    "class Login:\n",
    "\n",
    "    def __init__(self):\n",
    "        self.out = widgets.Output()\n",
    "\n",
    "        self.username = widgets.Text(\n",
    "            placeholder='username',\n",
    "            description='username',\n",
    "            disabled=False   \n",
    "        )\n",
    "\n",
    "        self.password = widgets.Text(\n",
    "            placeholder='password',\n",
    "            description='password',\n",
    "            disabled=False   \n",
    "        )\n",
    "\n",
    "        self.register_button = widgets.Button(\n",
    "            description='Register',\n",
    "            button_style='primary', \n",
    "            tooltip='Click me to submit',\n",
    "            icon='check'  \n",
    "        )\n",
    "\n",
    "     \n",
    "        def on_button_clicked(self, widget):\n",
    "            with self.out:\n",
    "                self.out.clear_output()  # Clears the output area below the cell before printing new output\n",
    "                print(f\"Username: dasdadsa\")\n",
    "                print(f\"Password: wwwwww\")\n",
    "\n",
    "        def jump_to_login_widget(self, b):  \n",
    "            with self.out:\n",
    "                self.out.clear_output()\n",
    "                print(\"Going to login widget\")\n",
    "                %run login_widget.ipynb          \n",
    "        \n",
    "        self.submit_button = v.Btn(color='primary', children=['Submit'], on_event={'click': on_button_clicked})\n",
    "        self.register_button.on_click(jump_to_login_widget)\n",
    "\n",
    "        self.container = v.Container(children=[\n",
    "            self.submit_button\n",
    "        ])\n",
    "        display(self.username, self.password, self.container, self.register_button, self.out)\n",
    "\n",
    "    def run(self, user, host, out):\n",
    "\n",
    "        with self.out:\n",
    "            pass\n",
    "\n",
    "    def register_account(self):\n",
    "        self.hide_login()\n",
    "        with self.out:\n",
    "            self.out.clear_output()\n",
    "            print(\"Going to Create account\")\n",
    "            %run create_account.ipynb\n",
    "    \n",
    "    def hide_login(self):\n",
    "        self.username.close()\n",
    "        self.password.close()\n",
    "        self.submit_button.close()\n",
    "        self.register_button.close()\n",
    "\n",
    "   "
   ]
  },
  {
   "cell_type": "code",
   "execution_count": null,
   "metadata": {},
   "outputs": [],
   "source": [
    "if __name__ == \"__main__\":\n",
    "    Login()"
   ]
  }
 ],
 "metadata": {
  "kernelspec": {
   "display_name": "Python 3 (ipykernel)",
   "language": "python",
   "name": "python3"
  },
  "language_info": {
   "codemirror_mode": {
    "name": "ipython",
    "version": 3
   },
   "file_extension": ".py",
   "mimetype": "text/x-python",
   "name": "python",
   "nbconvert_exporter": "python",
   "pygments_lexer": "ipython3",
   "version": "3.12.3"
  }
 },
 "nbformat": 4,
 "nbformat_minor": 4
}
