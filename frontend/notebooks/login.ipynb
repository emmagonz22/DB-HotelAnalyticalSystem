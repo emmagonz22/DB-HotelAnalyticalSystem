{
 "cells": [
  {
   "cell_type": "code",
   "execution_count": 13,
   "metadata": {},
   "outputs": [],
   "source": [
    "from IPython.display import display, HTML\n",
    "import ipywidgets as widgets\n",
    "import ipyvuetify as v\n",
    "import json\n",
    "import requests"
   ]
  },
  {
   "cell_type": "code",
   "execution_count": null,
   "metadata": {},
   "outputs": [],
   "source": [
    "connected_usr = {\n",
    "    'eid' : None,\n",
    "    'lname' : None,\n",
    "    'position' : None\n",
    "}\n",
    "\n",
    "def get_usr_id():\n",
    "    return connected_usr['eid']"
   ]
  },
  {
   "cell_type": "code",
   "execution_count": null,
   "metadata": {},
   "outputs": [],
   "source": [
    "%%html\n",
    "<style>\n",
    "    h1 {\n",
    "    text-align: center;\n",
    "    font-size: 70px;\n",
    "    font-weight: 600;\n",
    "    background-image: linear-gradient(to left, #553c9a, #b393d3);\n",
    "    color: transparent;\n",
    "    background-clip: text;\n",
    "    -webkit-background-clip: text;\n",
    "    }\n",
    "</style>\n",
    "<h1>\n",
    "Hotel Analytical Systems - Los Chuletas\n",
    "</h1>\n"
   ]
  },
  {
   "cell_type": "code",
   "execution_count": 21,
   "metadata": {},
   "outputs": [
    {
     "data": {
      "application/vnd.jupyter.widget-view+json": {
       "model_id": "acc95fa53b8049719d6ebb3f0f40fe0f",
       "version_major": 2,
       "version_minor": 0
      },
      "text/plain": [
       "Text(value='', description='username', placeholder='username')"
      ]
     },
     "metadata": {},
     "output_type": "display_data"
    },
    {
     "data": {
      "application/vnd.jupyter.widget-view+json": {
       "model_id": "f8e914673e4144f9b20e536a5694fe71",
       "version_major": 2,
       "version_minor": 0
      },
      "text/plain": [
       "Text(value='', description='password', placeholder='password')"
      ]
     },
     "metadata": {},
     "output_type": "display_data"
    }
   ],
   "source": [
    "class Login:\n",
    "\n",
    "    def __init__(self):\n",
    "        # endpoint without login required use for authentication\n",
    "        self.url = \"http://127.0.0.1:5000/auth\"\n",
    "\n",
    "        self.out = widgets.Output()\n",
    "\n",
    "        self.username = widgets.Text(\n",
    "            placeholder='username',\n",
    "            description='username'\n",
    "        )\n",
    "\n",
    "        self.password = widgets.Text(\n",
    "            placeholder='password',\n",
    "            description='password'\n",
    "          \n",
    "        )\n",
    "\n",
    "        self.register_button = widgets.Button(\n",
    "            description='Register',\n",
    "            button_style='primary', \n",
    "            tooltip='Click me to submit'\n",
    "          \n",
    "        )\n",
    "        \n",
    "        self.submit_button = v.Btn(color='primary', children=['Submit'])\n",
    "\n",
    "        self.container = v.Container(children=[\n",
    "            self.submit_button\n",
    "        ])\n",
    "\n",
    "    def run(self, user, host, out):\n",
    "\n",
    "        with self.out:\n",
    "            pass\n",
    "            \n",
    "    def register_account(self):\n",
    "        with self.out:\n",
    "            self.out.clear_output()\n",
    "            self.hide_login()\n",
    "            %run create_account.ipynb\n",
    "    \n",
    "    def hide_login(self):\n",
    "        self.username.close()\n",
    "        self.password.close()\n",
    "        self.submit_button.hide()\n",
    "        self.register_button.close()\n",
    "\n",
    "\n",
    "    def login(self):\n",
    "        data =  {'username': self.username.value, 'password': self.password.value} \n",
    "        #print(data)\n",
    "        #json_data = json.dumps(data)\n",
    "        headers = {'Content-Type': 'application/json'}\n",
    "        return requests.post(self.url, json=data, headers=headers).json()\n",
    "\n",
    "    def on_button_clicked(self, widget, event, data):\n",
    "            with self.out:\n",
    "                self.out.clear_output()  # Clears the output area below the cell before printing new output\n",
    "                response = self.login()\n",
    "                print(response)\n",
    "                if response.get('detail') == 'Login successful':\n",
    "                    self.hide_login()\n",
    "                    %run index.ipynb\n",
    "\n",
    "    def jump_to_login_widget(self, b):  \n",
    "            with self.out:\n",
    "                self.out.clear_output()\n",
    "                self.hide_login()\n",
    "                print(\"Going to login widget\")\n",
    "                %run login_widget.ipynb    \n",
    "\n",
    "    def get_connected_user(self, b):\n",
    "        with self.out:\n",
    "            self.out.clear_output()\n",
    "\n",
    "\n",
    "    def create_login(self):\n",
    "\n",
    "        self.submit_button.on_event('click', self.on_button_clicked)\n",
    "        self.register_button.on_click(self.register_account)\n",
    "              \n",
    "        display(self.username, self.password, self.container, self.register_button, self.out)\n",
    "\n",
    "\n"
   ]
  },
  {
   "cell_type": "code",
   "execution_count": null,
   "metadata": {},
   "outputs": [],
   "source": [
    "if __name__ == \"__main__\":\n",
    "    login = Login()\n",
    "    login.create_login()"
   ]
  }
 ],
 "metadata": {
  "kernelspec": {
   "display_name": "Python 3 (ipykernel)",
   "language": "python",
   "name": "python3"
  },
  "language_info": {
   "codemirror_mode": {
    "name": "ipython",
    "version": 3
   },
   "file_extension": ".py",
   "mimetype": "text/x-python",
   "name": "python",
   "nbconvert_exporter": "python",
   "pygments_lexer": "ipython3",
   "version": "3.12.3"
  }
 },
 "nbformat": 4,
 "nbformat_minor": 4
}
